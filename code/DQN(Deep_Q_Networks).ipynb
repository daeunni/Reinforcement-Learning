{
  "nbformat": 4,
  "nbformat_minor": 0,
  "metadata": {
    "kernelspec": {
      "display_name": "Python 3",
      "language": "python",
      "name": "python3"
    },
    "language_info": {
      "codemirror_mode": {
        "name": "ipython",
        "version": 3
      },
      "file_extension": ".py",
      "mimetype": "text/x-python",
      "name": "python",
      "nbconvert_exporter": "python",
      "pygments_lexer": "ipython3",
      "version": "3.7.7"
    },
    "colab": {
      "name": "DQN(Deep Q Networks).ipynb",
      "provenance": [],
      "collapsed_sections": [],
      "machine_shape": "hm"
    },
    "accelerator": "TPU"
  },
  "cells": [
    {
      "cell_type": "markdown",
      "metadata": {
        "id": "LcbNTU4_ugCh"
      },
      "source": [
        "# DQN (Deep Q Networks)\n",
        "\n",
        "- Q함수의 모든 가능성을 계산하는 것이 아닌, Q함수를 **딥러닝 모형**으로 추정하자\n",
        "- state을 input으로, 모든 가능한 action에 대한 Q(s, a)의 값을 output으로 출력한다!\n",
        "\n",
        "> 단 input, output의 **독립성**을 위해 Experience replay buffer를 만들어서, 이 buffer에 여러 episode의 transition을 저장한다\n",
        "\n",
        "- 그리고 y_hat에는 모수가 포함되게 되는데, 이를 위해 <u>main network와 target network를 따로 구성</u>한다. 하지만 이 둘은 같은 모형이며, 원래 network에서 추정된 모수를 일정시간 copy해서 고정해놓고, 추정에 사용한다!"
      ]
    },
    {
      "cell_type": "code",
      "metadata": {
        "colab": {
          "base_uri": "https://localhost:8080/"
        },
        "id": "n8GJZFUguqtn",
        "outputId": "cc0bf4fa-a2c5-44e2-c685-8856b4ce7110"
      },
      "source": [
        "pip install gym"
      ],
      "execution_count": 1,
      "outputs": [
        {
          "output_type": "stream",
          "text": [
            "Requirement already satisfied: gym in /usr/local/lib/python3.7/dist-packages (0.17.3)\n",
            "Requirement already satisfied: scipy in /usr/local/lib/python3.7/dist-packages (from gym) (1.4.1)\n",
            "Requirement already satisfied: pyglet<=1.5.0,>=1.4.0 in /usr/local/lib/python3.7/dist-packages (from gym) (1.5.0)\n",
            "Requirement already satisfied: cloudpickle<1.7.0,>=1.2.0 in /usr/local/lib/python3.7/dist-packages (from gym) (1.3.0)\n",
            "Requirement already satisfied: numpy>=1.10.4 in /usr/local/lib/python3.7/dist-packages (from gym) (1.19.5)\n",
            "Requirement already satisfied: future in /usr/local/lib/python3.7/dist-packages (from pyglet<=1.5.0,>=1.4.0->gym) (0.16.0)\n"
          ],
          "name": "stdout"
        }
      ]
    },
    {
      "cell_type": "code",
      "metadata": {
        "id": "XDG5sNDMugCo"
      },
      "source": [
        "import gym\n",
        "env=gym.make('MsPacman-v0')\n",
        "state=env.reset()\n",
        "# env.render()"
      ],
      "execution_count": 2,
      "outputs": []
    },
    {
      "cell_type": "code",
      "metadata": {
        "colab": {
          "base_uri": "https://localhost:8080/",
          "height": 269
        },
        "id": "150Vy8iCugCq",
        "outputId": "524e6de2-0f58-400d-aee7-ba8f334739b8"
      },
      "source": [
        "# state 보여주기\n",
        "import gym\n",
        "import matplotlib.pyplot as plt\n",
        "%matplotlib inline\n",
        "env=gym.make('MsPacman-v0')\n",
        "\n",
        "render=lambda:plt.imshow(env.render(mode='rgb_array'))\n",
        "env.reset()\n",
        "for _ in range(10):\n",
        "    env.step(env.action_space.sample())\n",
        "    render()\n",
        "    \n",
        "env.close()"
      ],
      "execution_count": 3,
      "outputs": [
        {
          "output_type": "display_data",
          "data": {
            "image/png": "[encoded data removed]",
            "text/plain": [
              "<Figure size 432x288 with 1 Axes>"
            ]
          },
          "metadata": {
            "tags": [],
            "needs_background": "light"
          }
        }
      ]
    },
    {
      "cell_type": "code",
      "metadata": {
        "colab": {
          "base_uri": "https://localhost:8080/"
        },
        "id": "3iIFJYWMugCq",
        "outputId": "2ef96f55-8988-4332-c9e2-2e8f72f9e2bb"
      },
      "source": [
        "# state 정보\n",
        "import numpy as np\n",
        "print(state.shape)\n",
        "state_1=state[1:176:2,::2]\n",
        "print(state_1.shape)\n",
        "state_1=state_1.mean(axis=2)  # 칼라 이미지를 흑백으로 만든다\n",
        "print(state_1.shape)\n",
        "\n",
        "state_1=state_1.reshape(88,80,1)  \n",
        "\n",
        "print(state_1.shape)\n",
        "\n",
        "state_1=state_1[np.newaxis,:]  # cnn의 input인 4D tensor를 만들기 위함!\n",
        "print(state_1.shape)\n",
        "print(env.action_space)"
      ],
      "execution_count": 4,
      "outputs": [
        {
          "output_type": "stream",
          "text": [
            "(210, 160, 3)\n",
            "(88, 80, 3)\n",
            "(88, 80)\n",
            "(88, 80, 1)\n",
            "(1, 88, 80, 1)\n",
            "Discrete(9)\n"
          ],
          "name": "stdout"
        }
      ]
    },
    {
      "cell_type": "code",
      "metadata": {
        "id": "0vtBjAU5ugCr"
      },
      "source": [
        "import random\n",
        "from collections import deque  # reply buffer를 만들기 위함\n",
        "from tensorflow.keras.models import Sequential\n",
        "from tensorflow.keras.layers import Conv2D, Dense, Flatten\n",
        "from tensorflow.keras.optimizers import Adam\n",
        "\n",
        "import warnings \n",
        "warnings.filterwarnings('ignore')\n",
        "\n",
        "state_shape=(88,80,1)   # 초기 state shape\n",
        "action_size=env.action_space.n\n",
        "color=np.array([210,164,74]).mean()\n",
        "\n",
        "# (210)\n",
        "def process_state(state):\n",
        "    img=state[1:176:2,::2]  #downsize\n",
        "    img=img.mean(axis=2)   #(210,160,3)을 (88,80)으로\n",
        "    img[img==color]=0\n",
        "    img=(img-128)/128 #-1~1\n",
        "    img=img.reshape(88,80,1)\n",
        "    return img"
      ],
      "execution_count": 5,
      "outputs": []
    },
    {
      "cell_type": "markdown",
      "metadata": {
        "id": "jumShTFTugCs"
      },
      "source": [
        "### DQN class 정의"
      ]
    },
    {
      "cell_type": "code",
      "metadata": {
        "id": "cCLBZg4BugCs"
      },
      "source": [
        "class DQN:\n",
        "    def __init__(self,state_shape,action_size):\n",
        "        self.state_shape=state_shape\n",
        "        self.action_size=action_size\n",
        "        self.replay_buffer=deque(maxlen=5000)\n",
        "        self.gamma=0.9\n",
        "        self.update_timesteps=1000\n",
        "        self.eps_min=0.1\n",
        "        self.eps_max=0.8\n",
        "        self.eps_steps=2000000\n",
        "        self.main_network=self.q_network()\n",
        "        self.target_network=self.q_network()\n",
        "        self.target_network.set_weights=(self.main_network.get_weights())  # 모수 초기치를 copy\n",
        "    \n",
        "    # CNN Q 함수 layer 설계\n",
        "    def q_network(self):\n",
        "        model=Sequential()\n",
        "        model.add(Conv2D(32,8,strides=4, padding='same', activation='relu', input_shape=self.state_shape))\n",
        "        model.add(Conv2D(64,4,strides=2,padding='same',activation='relu'))\n",
        "        model.add(Conv2D(64,3,padding='same',activation='relu'))\n",
        "        model.add(Flatten())\n",
        "        model.add(Dense(512,activation='relu'))\n",
        "        model.add(Dense(128,activation='relu'))\n",
        "        model.add(Dense(self.action_size,activation='linear'))\n",
        "        model.compile(loss='mse',optimizer=Adam())\n",
        "        return model\n",
        "    \n",
        "    # replay_buffer에 state, action, reward를 저장\n",
        "    def store_transitions(self, state, action, reward, next_state, done):\n",
        "        self.replay_buffer.append((state,action,reward,next_state,done))\n",
        "    \n",
        "    # 입실론 그리디 함수    \n",
        "    def epsilon_greedy(self,state,step):\n",
        "        epsilon=max(self.eps_min,self.eps_max-(self.eps_max-self.eps_min)*step/self.eps_steps)\n",
        "        if random.uniform(0,1)<epsilon:\n",
        "            return np.random.randint(self.action_size)\n",
        "        else:\n",
        "            state=state[np.newaxis,:]\n",
        "            Q_values=self.main_network.predict(state)\n",
        "            return np.argmax(Q_values[0])  # Q value return \n",
        "        \n",
        "    # Q함수를 학습시키는 함수      \n",
        "    def train(self,batch_size):\n",
        "        indices=np.random.randint(len(self.replay_buffer), size=batch_size)  # 임의로 추출하는 random 함수\n",
        "        batch=[self.replay_buffer[index] for index in indices]\n",
        "        \n",
        "        states,actions,rewards,next_states,dones=[\n",
        "            np.array([experience[field_index] for experience in batch]) for field_index in range(5)]\n",
        "        \n",
        "        next_Q_values=self.target_network.predict(next_states)  # CNN이 예측한 Q 함수 value\n",
        "        max_next_Q_values=np.max(next_Q_values,axis=1)\n",
        "        target_Q_values=(rewards+(1-dones)*self.gamma*max_next_Q_values)\n",
        "        \n",
        "        y_Q_values=self.main_network.predict(states)\n",
        "        for k, action in enumerate(actions):\n",
        "            y_Q_values[k][action]=target_Q_values[k]\n",
        "            \n",
        "        \n",
        "        self.main_network.train_on_batch(states,y_Q_values)\n",
        "        \n",
        "    def update_target_network(self):\n",
        "        self.target_network.set_weights=(self.main_network.get_weights())\n",
        "       "
      ],
      "execution_count": 6,
      "outputs": []
    },
    {
      "cell_type": "markdown",
      "metadata": {
        "id": "esRDpv1aA7hf"
      },
      "source": [
        "학습이 너무 오래걸려서,,, 에피소드 500에서 50으로 줄였다!"
      ]
    },
    {
      "cell_type": "code",
      "metadata": {
        "colab": {
          "base_uri": "https://localhost:8080/"
        },
        "id": "UlJD6eZpugCu",
        "outputId": "caa49b59-747a-477f-ecdc-ccbbfb60c6c6"
      },
      "source": [
        "num_episodes=50\n",
        "num_timesteps=20000\n",
        "batch_size=8\n",
        "training_interval=4\n",
        "return_monitor=[]\n",
        "dqn=DQN(state_shape,action_size)\n",
        "done=False\n",
        "time_step=0\n",
        "\n",
        "for i in range(num_episodes):\n",
        "    Return=0\n",
        "    state=process_state(env.reset())\n",
        "    \n",
        "    for t in range(num_timesteps):\n",
        "        # env.render()\n",
        "        time_step+=1\n",
        "        if time_step % dqn.update_timesteps==0:\n",
        "            dqn.update_target_network()\n",
        "            \n",
        "        action=dqn.epsilon_greedy(state,t*(i+1))\n",
        "        next_state,reward,done,_ =env.step(action)\n",
        "        next_state=process_state(next_state)\n",
        "        \n",
        "        dqn.store_transitions(state,action,reward,next_state,done)\n",
        "        state=next_state\n",
        "        \n",
        "        Return+=reward\n",
        "        \n",
        "        if time_step % training_interval!=0:\n",
        "            continue\n",
        "        \n",
        "        if done:\n",
        "            print('Episode:' ,i, \",\" 'return:', Return)\n",
        "            return_monitor.append([i,Return])\n",
        "            break\n",
        "            \n",
        "        if len(dqn.replay_buffer)>batch_size:\n",
        "            dqn.train(batch_size)"
      ],
      "execution_count": 8,
      "outputs": [
        {
          "output_type": "stream",
          "text": [
            "Episode: 0 ,return: 230.0\n",
            "Episode: 1 ,return: 220.0\n",
            "Episode: 2 ,return: 300.0\n",
            "Episode: 3 ,return: 180.0\n",
            "Episode: 4 ,return: 240.0\n",
            "Episode: 5 ,return: 510.0\n",
            "Episode: 6 ,return: 250.0\n",
            "Episode: 7 ,return: 280.0\n",
            "Episode: 8 ,return: 250.0\n",
            "Episode: 9 ,return: 460.0\n",
            "Episode: 10 ,return: 270.0\n",
            "Episode: 11 ,return: 350.0\n",
            "Episode: 12 ,return: 220.0\n",
            "Episode: 13 ,return: 220.0\n",
            "Episode: 14 ,return: 360.0\n",
            "Episode: 15 ,return: 140.0\n",
            "Episode: 16 ,return: 390.0\n",
            "Episode: 17 ,return: 200.0\n",
            "Episode: 18 ,return: 320.0\n",
            "Episode: 19 ,return: 280.0\n",
            "Episode: 20 ,return: 230.0\n",
            "Episode: 21 ,return: 160.0\n",
            "Episode: 22 ,return: 330.0\n",
            "Episode: 23 ,return: 250.0\n",
            "Episode: 24 ,return: 330.0\n",
            "Episode: 25 ,return: 280.0\n",
            "Episode: 26 ,return: 150.0\n",
            "Episode: 27 ,return: 190.0\n",
            "Episode: 28 ,return: 250.0\n",
            "Episode: 29 ,return: 250.0\n",
            "Episode: 30 ,return: 150.0\n",
            "Episode: 31 ,return: 160.0\n",
            "Episode: 32 ,return: 330.0\n",
            "Episode: 33 ,return: 140.0\n",
            "Episode: 34 ,return: 230.0\n",
            "Episode: 35 ,return: 560.0\n",
            "Episode: 36 ,return: 350.0\n",
            "Episode: 37 ,return: 280.0\n",
            "Episode: 38 ,return: 190.0\n",
            "Episode: 39 ,return: 510.0\n",
            "Episode: 40 ,return: 390.0\n",
            "Episode: 41 ,return: 200.0\n",
            "Episode: 42 ,return: 220.0\n",
            "Episode: 43 ,return: 310.0\n",
            "Episode: 44 ,return: 210.0\n",
            "Episode: 45 ,return: 580.0\n",
            "Episode: 46 ,return: 410.0\n",
            "Episode: 47 ,return: 130.0\n",
            "Episode: 48 ,return: 220.0\n",
            "Episode: 49 ,return: 300.0\n"
          ],
          "name": "stdout"
        }
      ]
    },
    {
      "cell_type": "code",
      "metadata": {
        "colab": {
          "base_uri": "https://localhost:8080/"
        },
        "id": "TZXsz4jdugCv",
        "outputId": "927db3e4-7242-4327-c91f-a730acdc55b4"
      },
      "source": [
        "a=(3,4,5)\n",
        "b=np.zeros((3,6))\n",
        "print(b)\n",
        "for i, k in enumerate(a):\n",
        "    b[i][k]=99\n",
        "    \n",
        "    \n",
        "print(b)   "
      ],
      "execution_count": 9,
      "outputs": [
        {
          "output_type": "stream",
          "text": [
            "[[0. 0. 0. 0. 0. 0.]\n",
            " [0. 0. 0. 0. 0. 0.]\n",
            " [0. 0. 0. 0. 0. 0.]]\n",
            "[[ 0.  0.  0. 99.  0.  0.]\n",
            " [ 0.  0.  0.  0. 99.  0.]\n",
            " [ 0.  0.  0.  0.  0. 99.]]\n"
          ],
          "name": "stdout"
        }
      ]
    },
    {
      "cell_type": "code",
      "metadata": {
        "colab": {
          "base_uri": "https://localhost:8080/",
          "height": 542
        },
        "id": "5fRlzRMbugCw",
        "outputId": "941c6514-dfa3-4001-c7e9-837591584070"
      },
      "source": [
        "import pandas as pd\n",
        "import plotly.express as px\n",
        "df=pd.DataFrame(return_monitor,columns=['episode','return'])\n",
        "fig=px.line(df,x='episode',y='return', title='Return_Monitor')\n",
        "fig.show()"
      ],
      "execution_count": 10,
      "outputs": [
        {
          "output_type": "display_data",
          "data": {
            "text/html": [
              "<html>\n",
              "<head><meta charset=\"utf-8\" /></head>\n",
              "<body>\n",
              "    <div>\n",
              "            <script src=\"https://cdnjs.cloudflare.com/ajax/libs/mathjax/2.7.5/MathJax.js?config=TeX-AMS-MML_SVG\"></script><script type=\"text/javascript\">if (window.MathJax) {MathJax.Hub.Config({SVG: {font: \"STIX-Web\"}});}</script>\n",
              "                <script type=\"text/javascript\">window.PlotlyConfig = {MathJaxConfig: 'local'};</script>\n",
              "        <script src=\"https://cdn.plot.ly/plotly-latest.min.js\"></script>    \n",
              "            <div id=\"f1c7f430-d9a4-4a47-9da9-2712454751e2\" class=\"plotly-graph-div\" style=\"height:525px; width:100%;\"></div>\n",
              "            <script type=\"text/javascript\">\n",
              "                \n",
              "                    window.PLOTLYENV=window.PLOTLYENV || {};\n",
              "                    \n",
              "                if (document.getElementById(\"f1c7f430-d9a4-4a47-9da9-2712454751e2\")) {\n",
              "                    Plotly.newPlot(\n",
              "                        'f1c7f430-d9a4-4a47-9da9-2712454751e2',\n",
              "                        [{\"hoverlabel\": {\"namelength\": 0}, \"hovertemplate\": \"episode=%{x}<br>return=%{y}\", \"legendgroup\": \"\", \"line\": {\"color\": \"#636efa\", \"dash\": \"solid\"}, \"mode\": \"lines\", \"name\": \"\", \"showlegend\": false, \"type\": \"scatter\", \"x\": [0, 1, 2, 3, 4, 5, 6, 7, 8, 9, 10, 11, 12, 13, 14, 15, 16, 17, 18, 19, 20, 21, 22, 23, 24, 25, 26, 27, 28, 29, 30, 31, 32, 33, 34, 35, 36, 37, 38, 39, 40, 41, 42, 43, 44, 45, 46, 47, 48, 49], \"xaxis\": \"x\", \"y\": [230.0, 220.0, 300.0, 180.0, 240.0, 510.0, 250.0, 280.0, 250.0, 460.0, 270.0, 350.0, 220.0, 220.0, 360.0, 140.0, 390.0, 200.0, 320.0, 280.0, 230.0, 160.0, 330.0, 250.0, 330.0, 280.0, 150.0, 190.0, 250.0, 250.0, 150.0, 160.0, 330.0, 140.0, 230.0, 560.0, 350.0, 280.0, 190.0, 510.0, 390.0, 200.0, 220.0, 310.0, 210.0, 580.0, 410.0, 130.0, 220.0, 300.0], \"yaxis\": \"y\"}],\n",
              "                        {\"legend\": {\"tracegroupgap\": 0}, \"template\": {\"data\": {\"bar\": [{\"error_x\": {\"color\": \"#2a3f5f\"}, \"error_y\": {\"color\": \"#2a3f5f\"}, \"marker\": {\"line\": {\"color\": \"#E5ECF6\", \"width\": 0.5}}, \"type\": \"bar\"}], \"barpolar\": [{\"marker\": {\"line\": {\"color\": \"#E5ECF6\", \"width\": 0.5}}, \"type\": \"barpolar\"}], \"carpet\": [{\"aaxis\": {\"endlinecolor\": \"#2a3f5f\", \"gridcolor\": \"white\", \"linecolor\": \"white\", \"minorgridcolor\": \"white\", \"startlinecolor\": \"#2a3f5f\"}, \"baxis\": {\"endlinecolor\": \"#2a3f5f\", \"gridcolor\": \"white\", \"linecolor\": \"white\", \"minorgridcolor\": \"white\", \"startlinecolor\": \"#2a3f5f\"}, \"type\": \"carpet\"}], \"choropleth\": [{\"colorbar\": {\"outlinewidth\": 0, \"ticks\": \"\"}, \"type\": \"choropleth\"}], \"contour\": [{\"colorbar\": {\"outlinewidth\": 0, \"ticks\": \"\"}, \"colorscale\": [[0.0, \"#0d0887\"], [0.1111111111111111, \"#46039f\"], [0.2222222222222222, \"#7201a8\"], [0.3333333333333333, \"#9c179e\"], [0.4444444444444444, \"#bd3786\"], [0.5555555555555556, \"#d8576b\"], [0.6666666666666666, \"#ed7953\"], [0.7777777777777778, \"#fb9f3a\"], [0.8888888888888888, \"#fdca26\"], [1.0, \"#f0f921\"]], \"type\": \"contour\"}], \"contourcarpet\": [{\"colorbar\": {\"outlinewidth\": 0, \"ticks\": \"\"}, \"type\": \"contourcarpet\"}], \"heatmap\": [{\"colorbar\": {\"outlinewidth\": 0, \"ticks\": \"\"}, \"colorscale\": [[0.0, \"#0d0887\"], [0.1111111111111111, \"#46039f\"], [0.2222222222222222, \"#7201a8\"], [0.3333333333333333, \"#9c179e\"], [0.4444444444444444, \"#bd3786\"], [0.5555555555555556, \"#d8576b\"], [0.6666666666666666, \"#ed7953\"], [0.7777777777777778, \"#fb9f3a\"], [0.8888888888888888, \"#fdca26\"], [1.0, \"#f0f921\"]], \"type\": \"heatmap\"}], \"heatmapgl\": [{\"colorbar\": {\"outlinewidth\": 0, \"ticks\": \"\"}, \"colorscale\": [[0.0, \"#0d0887\"], [0.1111111111111111, \"#46039f\"], [0.2222222222222222, \"#7201a8\"], [0.3333333333333333, \"#9c179e\"], [0.4444444444444444, \"#bd3786\"], [0.5555555555555556, \"#d8576b\"], [0.6666666666666666, \"#ed7953\"], [0.7777777777777778, \"#fb9f3a\"], [0.8888888888888888, \"#fdca26\"], [1.0, \"#f0f921\"]], \"type\": \"heatmapgl\"}], \"histogram\": [{\"marker\": {\"colorbar\": {\"outlinewidth\": 0, \"ticks\": \"\"}}, \"type\": \"histogram\"}], \"histogram2d\": [{\"colorbar\": {\"outlinewidth\": 0, \"ticks\": \"\"}, \"colorscale\": [[0.0, \"#0d0887\"], [0.1111111111111111, \"#46039f\"], [0.2222222222222222, \"#7201a8\"], [0.3333333333333333, \"#9c179e\"], [0.4444444444444444, \"#bd3786\"], [0.5555555555555556, \"#d8576b\"], [0.6666666666666666, \"#ed7953\"], [0.7777777777777778, \"#fb9f3a\"], [0.8888888888888888, \"#fdca26\"], [1.0, \"#f0f921\"]], \"type\": \"histogram2d\"}], \"histogram2dcontour\": [{\"colorbar\": {\"outlinewidth\": 0, \"ticks\": \"\"}, \"colorscale\": [[0.0, \"#0d0887\"], [0.1111111111111111, \"#46039f\"], [0.2222222222222222, \"#7201a8\"], [0.3333333333333333, \"#9c179e\"], [0.4444444444444444, \"#bd3786\"], [0.5555555555555556, \"#d8576b\"], [0.6666666666666666, \"#ed7953\"], [0.7777777777777778, \"#fb9f3a\"], [0.8888888888888888, \"#fdca26\"], [1.0, \"#f0f921\"]], \"type\": \"histogram2dcontour\"}], \"mesh3d\": [{\"colorbar\": {\"outlinewidth\": 0, \"ticks\": \"\"}, \"type\": \"mesh3d\"}], \"parcoords\": [{\"line\": {\"colorbar\": {\"outlinewidth\": 0, \"ticks\": \"\"}}, \"type\": \"parcoords\"}], \"pie\": [{\"automargin\": true, \"type\": \"pie\"}], \"scatter\": [{\"marker\": {\"colorbar\": {\"outlinewidth\": 0, \"ticks\": \"\"}}, \"type\": \"scatter\"}], \"scatter3d\": [{\"line\": {\"colorbar\": {\"outlinewidth\": 0, \"ticks\": \"\"}}, \"marker\": {\"colorbar\": {\"outlinewidth\": 0, \"ticks\": \"\"}}, \"type\": \"scatter3d\"}], \"scattercarpet\": [{\"marker\": {\"colorbar\": {\"outlinewidth\": 0, \"ticks\": \"\"}}, \"type\": \"scattercarpet\"}], \"scattergeo\": [{\"marker\": {\"colorbar\": {\"outlinewidth\": 0, \"ticks\": \"\"}}, \"type\": \"scattergeo\"}], \"scattergl\": [{\"marker\": {\"colorbar\": {\"outlinewidth\": 0, \"ticks\": \"\"}}, \"type\": \"scattergl\"}], \"scattermapbox\": [{\"marker\": {\"colorbar\": {\"outlinewidth\": 0, \"ticks\": \"\"}}, \"type\": \"scattermapbox\"}], \"scatterpolar\": [{\"marker\": {\"colorbar\": {\"outlinewidth\": 0, \"ticks\": \"\"}}, \"type\": \"scatterpolar\"}], \"scatterpolargl\": [{\"marker\": {\"colorbar\": {\"outlinewidth\": 0, \"ticks\": \"\"}}, \"type\": \"scatterpolargl\"}], \"scatterternary\": [{\"marker\": {\"colorbar\": {\"outlinewidth\": 0, \"ticks\": \"\"}}, \"type\": \"scatterternary\"}], \"surface\": [{\"colorbar\": {\"outlinewidth\": 0, \"ticks\": \"\"}, \"colorscale\": [[0.0, \"#0d0887\"], [0.1111111111111111, \"#46039f\"], [0.2222222222222222, \"#7201a8\"], [0.3333333333333333, \"#9c179e\"], [0.4444444444444444, \"#bd3786\"], [0.5555555555555556, \"#d8576b\"], [0.6666666666666666, \"#ed7953\"], [0.7777777777777778, \"#fb9f3a\"], [0.8888888888888888, \"#fdca26\"], [1.0, \"#f0f921\"]], \"type\": \"surface\"}], \"table\": [{\"cells\": {\"fill\": {\"color\": \"#EBF0F8\"}, \"line\": {\"color\": \"white\"}}, \"header\": {\"fill\": {\"color\": \"#C8D4E3\"}, \"line\": {\"color\": \"white\"}}, \"type\": \"table\"}]}, \"layout\": {\"annotationdefaults\": {\"arrowcolor\": \"#2a3f5f\", \"arrowhead\": 0, \"arrowwidth\": 1}, \"coloraxis\": {\"colorbar\": {\"outlinewidth\": 0, \"ticks\": \"\"}}, \"colorscale\": {\"diverging\": [[0, \"#8e0152\"], [0.1, \"#c51b7d\"], [0.2, \"#de77ae\"], [0.3, \"#f1b6da\"], [0.4, \"#fde0ef\"], [0.5, \"#f7f7f7\"], [0.6, \"#e6f5d0\"], [0.7, \"#b8e186\"], [0.8, \"#7fbc41\"], [0.9, \"#4d9221\"], [1, \"#276419\"]], \"sequential\": [[0.0, \"#0d0887\"], [0.1111111111111111, \"#46039f\"], [0.2222222222222222, \"#7201a8\"], [0.3333333333333333, \"#9c179e\"], [0.4444444444444444, \"#bd3786\"], [0.5555555555555556, \"#d8576b\"], [0.6666666666666666, \"#ed7953\"], [0.7777777777777778, \"#fb9f3a\"], [0.8888888888888888, \"#fdca26\"], [1.0, \"#f0f921\"]], \"sequentialminus\": [[0.0, \"#0d0887\"], [0.1111111111111111, \"#46039f\"], [0.2222222222222222, \"#7201a8\"], [0.3333333333333333, \"#9c179e\"], [0.4444444444444444, \"#bd3786\"], [0.5555555555555556, \"#d8576b\"], [0.6666666666666666, \"#ed7953\"], [0.7777777777777778, \"#fb9f3a\"], [0.8888888888888888, \"#fdca26\"], [1.0, \"#f0f921\"]]}, \"colorway\": [\"#636efa\", \"#EF553B\", \"#00cc96\", \"#ab63fa\", \"#FFA15A\", \"#19d3f3\", \"#FF6692\", \"#B6E880\", \"#FF97FF\", \"#FECB52\"], \"font\": {\"color\": \"#2a3f5f\"}, \"geo\": {\"bgcolor\": \"white\", \"lakecolor\": \"white\", \"landcolor\": \"#E5ECF6\", \"showlakes\": true, \"showland\": true, \"subunitcolor\": \"white\"}, \"hoverlabel\": {\"align\": \"left\"}, \"hovermode\": \"closest\", \"mapbox\": {\"style\": \"light\"}, \"paper_bgcolor\": \"white\", \"plot_bgcolor\": \"#E5ECF6\", \"polar\": {\"angularaxis\": {\"gridcolor\": \"white\", \"linecolor\": \"white\", \"ticks\": \"\"}, \"bgcolor\": \"#E5ECF6\", \"radialaxis\": {\"gridcolor\": \"white\", \"linecolor\": \"white\", \"ticks\": \"\"}}, \"scene\": {\"xaxis\": {\"backgroundcolor\": \"#E5ECF6\", \"gridcolor\": \"white\", \"gridwidth\": 2, \"linecolor\": \"white\", \"showbackground\": true, \"ticks\": \"\", \"zerolinecolor\": \"white\"}, \"yaxis\": {\"backgroundcolor\": \"#E5ECF6\", \"gridcolor\": \"white\", \"gridwidth\": 2, \"linecolor\": \"white\", \"showbackground\": true, \"ticks\": \"\", \"zerolinecolor\": \"white\"}, \"zaxis\": {\"backgroundcolor\": \"#E5ECF6\", \"gridcolor\": \"white\", \"gridwidth\": 2, \"linecolor\": \"white\", \"showbackground\": true, \"ticks\": \"\", \"zerolinecolor\": \"white\"}}, \"shapedefaults\": {\"line\": {\"color\": \"#2a3f5f\"}}, \"ternary\": {\"aaxis\": {\"gridcolor\": \"white\", \"linecolor\": \"white\", \"ticks\": \"\"}, \"baxis\": {\"gridcolor\": \"white\", \"linecolor\": \"white\", \"ticks\": \"\"}, \"bgcolor\": \"#E5ECF6\", \"caxis\": {\"gridcolor\": \"white\", \"linecolor\": \"white\", \"ticks\": \"\"}}, \"title\": {\"x\": 0.05}, \"xaxis\": {\"automargin\": true, \"gridcolor\": \"white\", \"linecolor\": \"white\", \"ticks\": \"\", \"title\": {\"standoff\": 15}, \"zerolinecolor\": \"white\", \"zerolinewidth\": 2}, \"yaxis\": {\"automargin\": true, \"gridcolor\": \"white\", \"linecolor\": \"white\", \"ticks\": \"\", \"title\": {\"standoff\": 15}, \"zerolinecolor\": \"white\", \"zerolinewidth\": 2}}}, \"title\": {\"text\": \"Return_Monitor\"}, \"xaxis\": {\"anchor\": \"y\", \"domain\": [0.0, 1.0], \"title\": {\"text\": \"episode\"}}, \"yaxis\": {\"anchor\": \"x\", \"domain\": [0.0, 1.0], \"title\": {\"text\": \"return\"}}},\n",
              "                        {\"responsive\": true}\n",
              "                    ).then(function(){\n",
              "                            \n",
              "var gd = document.getElementById('f1c7f430-d9a4-4a47-9da9-2712454751e2');\n",
              "var x = new MutationObserver(function (mutations, observer) {{\n",
              "        var display = window.getComputedStyle(gd).display;\n",
              "        if (!display || display === 'none') {{\n",
              "            console.log([gd, 'removed!']);\n",
              "            Plotly.purge(gd);\n",
              "            observer.disconnect();\n",
              "        }}\n",
              "}});\n",
              "\n",
              "// Listen for the removal of the full notebook cells\n",
              "var notebookContainer = gd.closest('#notebook-container');\n",
              "if (notebookContainer) {{\n",
              "    x.observe(notebookContainer, {childList: true});\n",
              "}}\n",
              "\n",
              "// Listen for the clearing of the current output cell\n",
              "var outputEl = gd.closest('.output');\n",
              "if (outputEl) {{\n",
              "    x.observe(outputEl, {childList: true});\n",
              "}}\n",
              "\n",
              "                        })\n",
              "                };\n",
              "                \n",
              "            </script>\n",
              "        </div>\n",
              "</body>\n",
              "</html>"
            ]
          },
          "metadata": {
            "tags": []
          }
        }
      ]
    },
    {
      "cell_type": "markdown",
      "metadata": {
        "id": "twcoabjFGFw7"
      },
      "source": [
        "수렴이 되지 않고,,, 요동치는 모습이다. 아마 num_episodes가 매우 적어서 수렴이 어려워 보이긴 한다. "
      ]
    },
    {
      "cell_type": "markdown",
      "metadata": {
        "id": "meH9kvTQvMhd"
      },
      "source": [
        "# Double DQN\n",
        "\n",
        "- Simple DQN이 y_hat을 모형에 의존하여 추정하기때문에, 과대 추정할 가능성이 높음을 인지"
      ]
    },
    {
      "cell_type": "code",
      "metadata": {
        "colab": {
          "base_uri": "https://localhost:8080/"
        },
        "id": "4PT_bF2WvLZt",
        "outputId": "a927abb3-3287-46ac-e2cf-13d8aef8b699"
      },
      "source": [
        "class DQN:\n",
        "    def __init__(self,state_shape,action_size):\n",
        "        self.state_shape=state_shape\n",
        "        self.action_size=action_size\n",
        "        self.replay_buffer=deque(maxlen=5000)\n",
        "        self.gamma=0.9\n",
        "        self.update_timesteps=1000\n",
        "        self.eps_min=0.1\n",
        "        self.eps_max=0.8\n",
        "        self.eps_steps=2000000\n",
        "        self.main_network=self.q_network()\n",
        "        self.target_network=self.q_network()\n",
        "        self.target_network.set_weights=(self.main_network.get_weights())  # 모수 초기치를 copy\n",
        "    \n",
        "    # CNN Q 함수 layer 설계\n",
        "    def q_network(self):\n",
        "        model=Sequential()\n",
        "        model.add(Conv2D(32,8,strides=4, padding='same', activation='relu', input_shape=self.state_shape))\n",
        "        model.add(Conv2D(64,4,strides=2,padding='same',activation='relu'))\n",
        "        model.add(Conv2D(64,3,padding='same',activation='relu'))\n",
        "        model.add(Flatten())\n",
        "        model.add(Dense(512,activation='relu'))\n",
        "        model.add(Dense(128,activation='relu'))\n",
        "        model.add(Dense(self.action_size,activation='linear'))\n",
        "        \n",
        "        model.compile(loss='mse',optimizer=Adam())\n",
        "        return model\n",
        "    \n",
        "    # replay_buffer에 state, action, reward를 저장\n",
        "    def store_transitions(self, state, action, reward, next_state, done):\n",
        "        self.replay_buffer.append((state,action,reward,next_state,done))\n",
        "    \n",
        "    # 입실론 그리디 함수    \n",
        "    def epsilon_greedy(self,state,step):\n",
        "        epsilon=max(self.eps_min,self.eps_max-(self.eps_max-self.eps_min)*step/self.eps_steps)\n",
        "        if random.uniform(0,1)<epsilon:\n",
        "            return np.random.randint(self.action_size)\n",
        "        else:\n",
        "            state=state[np.newaxis,:]\n",
        "            Q_values=self.main_network.predict(state)\n",
        "            return np.argmax(Q_values[0])  # Q value return \n",
        "        \n",
        "    # Q함수를 학습시키는 함수      \n",
        "    def train(self,batch_size):\n",
        "        indices=np.random.randint(len(self.replay_buffer), size=batch_size)  # 임의로 추출하는 random 함수\n",
        "        batch=[self.replay_buffer[index] for index in indices]\n",
        "        \n",
        "        states,actions,rewards,next_states,dones=[\n",
        "            np.array([experience[field_index] for experience in batch]) for field_index in range(5)]\n",
        "        \n",
        "        next_Q_values=self.main_network.predict(next_states)  # CNN이 예측한 Q 함수 value >> Double DQN으로 변경\n",
        "        max_next_Q_values=np.max(next_Q_values,axis=1)\n",
        "        target_Q_values=(rewards+(1-dones)*self.gamma*max_next_Q_values)\n",
        "        \n",
        "        y_Q_values=self.main_network.predict(states)\n",
        "        for k, action in enumerate(actions):\n",
        "            y_Q_values[k][action]=target_Q_values[k]\n",
        "            \n",
        "        \n",
        "        self.main_network.train_on_batch(states,y_Q_values)\n",
        "        \n",
        "    def update_target_network(self):\n",
        "        self.target_network.set_weights=(self.main_network.get_weights())\n",
        "       \n",
        "\n",
        "num_episodes=50\n",
        "num_timesteps=20000\n",
        "batch_size=8\n",
        "training_interval=4\n",
        "return_monitor=[]\n",
        "dqn=DQN(state_shape,action_size)\n",
        "done=False\n",
        "time_step=0\n",
        "\n",
        "for i in range(num_episodes):\n",
        "    Return=0\n",
        "    state=process_state(env.reset())\n",
        "    \n",
        "    for t in range(num_timesteps):\n",
        "        # env.render()\n",
        "        time_step+=1\n",
        "        if time_step % dqn.update_timesteps==0:\n",
        "            dqn.update_target_network()\n",
        "            \n",
        "        action=dqn.epsilon_greedy(state,t*(i+1))\n",
        "        next_state,reward,done,_ =env.step(action)\n",
        "        next_state=process_state(next_state)\n",
        "        \n",
        "        dqn.store_transitions(state,action,reward,next_state,done)\n",
        "        state=next_state\n",
        "        \n",
        "        Return+=reward\n",
        "        \n",
        "        if time_step % training_interval!=0:\n",
        "            continue\n",
        "        \n",
        "        if done:\n",
        "            print('Episode:' ,i, \",\" 'return:', Return)\n",
        "            return_monitor.append([i,Return])\n",
        "            break\n",
        "            \n",
        "        if len(dqn.replay_buffer)>batch_size:\n",
        "            dqn.train(batch_size)"
      ],
      "execution_count": 11,
      "outputs": [
        {
          "output_type": "stream",
          "text": [
            "Episode: 0 ,return: 320.0\n",
            "Episode: 1 ,return: 300.0\n",
            "Episode: 2 ,return: 340.0\n",
            "Episode: 3 ,return: 280.0\n",
            "Episode: 4 ,return: 350.0\n",
            "Episode: 5 ,return: 150.0\n",
            "Episode: 6 ,return: 290.0\n",
            "Episode: 7 ,return: 120.0\n",
            "Episode: 8 ,return: 120.0\n",
            "Episode: 9 ,return: 200.0\n",
            "Episode: 10 ,return: 290.0\n",
            "Episode: 11 ,return: 160.0\n",
            "Episode: 12 ,return: 240.0\n",
            "Episode: 13 ,return: 190.0\n",
            "Episode: 14 ,return: 350.0\n",
            "Episode: 15 ,return: 160.0\n",
            "Episode: 16 ,return: 200.0\n",
            "Episode: 17 ,return: 370.0\n",
            "Episode: 18 ,return: 280.0\n",
            "Episode: 19 ,return: 470.0\n",
            "Episode: 20 ,return: 310.0\n",
            "Episode: 21 ,return: 170.0\n",
            "Episode: 22 ,return: 220.0\n",
            "Episode: 23 ,return: 160.0\n",
            "Episode: 24 ,return: 170.0\n",
            "Episode: 25 ,return: 230.0\n",
            "Episode: 26 ,return: 250.0\n",
            "Episode: 27 ,return: 240.0\n",
            "Episode: 28 ,return: 240.0\n",
            "Episode: 29 ,return: 170.0\n",
            "Episode: 30 ,return: 340.0\n",
            "Episode: 31 ,return: 490.0\n",
            "Episode: 32 ,return: 280.0\n",
            "Episode: 33 ,return: 340.0\n",
            "Episode: 34 ,return: 200.0\n",
            "Episode: 35 ,return: 140.0\n",
            "Episode: 36 ,return: 200.0\n",
            "Episode: 37 ,return: 290.0\n",
            "Episode: 38 ,return: 280.0\n",
            "Episode: 39 ,return: 250.0\n",
            "Episode: 40 ,return: 400.0\n",
            "Episode: 41 ,return: 270.0\n",
            "Episode: 42 ,return: 710.0\n",
            "Episode: 43 ,return: 180.0\n",
            "Episode: 44 ,return: 250.0\n",
            "Episode: 45 ,return: 350.0\n",
            "Episode: 46 ,return: 200.0\n",
            "Episode: 47 ,return: 580.0\n",
            "Episode: 48 ,return: 370.0\n",
            "Episode: 49 ,return: 130.0\n"
          ],
          "name": "stdout"
        }
      ]
    },
    {
      "cell_type": "code",
      "metadata": {
        "colab": {
          "base_uri": "https://localhost:8080/"
        },
        "id": "9lln8JXovLb5",
        "outputId": "ebbcc441-e0e5-4f42-af51-699ea4b88c26"
      },
      "source": [
        "a=(3,4,5)\n",
        "b=np.zeros((3,6))\n",
        "print(b)\n",
        "for i, k in enumerate(a):\n",
        "    b[i][k]=99\n",
        "    \n",
        "    \n",
        "print(b)   "
      ],
      "execution_count": 12,
      "outputs": [
        {
          "output_type": "stream",
          "text": [
            "[[0. 0. 0. 0. 0. 0.]\n",
            " [0. 0. 0. 0. 0. 0.]\n",
            " [0. 0. 0. 0. 0. 0.]]\n",
            "[[ 0.  0.  0. 99.  0.  0.]\n",
            " [ 0.  0.  0.  0. 99.  0.]\n",
            " [ 0.  0.  0.  0.  0. 99.]]\n"
          ],
          "name": "stdout"
        }
      ]
    },
    {
      "cell_type": "code",
      "metadata": {
        "colab": {
          "base_uri": "https://localhost:8080/",
          "height": 542
        },
        "id": "zfUr9rb1vLmF",
        "outputId": "b5f99504-15f9-4977-cc52-9dc1aea397d0"
      },
      "source": [
        "import pandas as pd\n",
        "import plotly.express as px\n",
        "df=pd.DataFrame(return_monitor,columns=['episode','return'])\n",
        "fig=px.line(df,x='episode',y='return', title='Return_Monitor')\n",
        "fig.show()"
      ],
      "execution_count": 13,
      "outputs": [
        {
          "output_type": "display_data",
          "data": {
            "text/html": [
              "<html>\n",
              "<head><meta charset=\"utf-8\" /></head>\n",
              "<body>\n",
              "    <div>\n",
              "            <script src=\"https://cdnjs.cloudflare.com/ajax/libs/mathjax/2.7.5/MathJax.js?config=TeX-AMS-MML_SVG\"></script><script type=\"text/javascript\">if (window.MathJax) {MathJax.Hub.Config({SVG: {font: \"STIX-Web\"}});}</script>\n",
              "                <script type=\"text/javascript\">window.PlotlyConfig = {MathJaxConfig: 'local'};</script>\n",
              "        <script src=\"https://cdn.plot.ly/plotly-latest.min.js\"></script>    \n",
              "            <div id=\"62f8b482-981e-46a2-ae26-5267e10d867e\" class=\"plotly-graph-div\" style=\"height:525px; width:100%;\"></div>\n",
              "            <script type=\"text/javascript\">\n",
              "                \n",
              "                    window.PLOTLYENV=window.PLOTLYENV || {};\n",
              "                    \n",
              "                if (document.getElementById(\"62f8b482-981e-46a2-ae26-5267e10d867e\")) {\n",
              "                    Plotly.newPlot(\n",
              "                        '62f8b482-981e-46a2-ae26-5267e10d867e',\n",
              "                        [{\"hoverlabel\": {\"namelength\": 0}, \"hovertemplate\": \"episode=%{x}<br>return=%{y}\", \"legendgroup\": \"\", \"line\": {\"color\": \"#636efa\", \"dash\": \"solid\"}, \"mode\": \"lines\", \"name\": \"\", \"showlegend\": false, \"type\": \"scatter\", \"x\": [0, 1, 2, 3, 4, 5, 6, 7, 8, 9, 10, 11, 12, 13, 14, 15, 16, 17, 18, 19, 20, 21, 22, 23, 24, 25, 26, 27, 28, 29, 30, 31, 32, 33, 34, 35, 36, 37, 38, 39, 40, 41, 42, 43, 44, 45, 46, 47, 48, 49], \"xaxis\": \"x\", \"y\": [320.0, 300.0, 340.0, 280.0, 350.0, 150.0, 290.0, 120.0, 120.0, 200.0, 290.0, 160.0, 240.0, 190.0, 350.0, 160.0, 200.0, 370.0, 280.0, 470.0, 310.0, 170.0, 220.0, 160.0, 170.0, 230.0, 250.0, 240.0, 240.0, 170.0, 340.0, 490.0, 280.0, 340.0, 200.0, 140.0, 200.0, 290.0, 280.0, 250.0, 400.0, 270.0, 710.0, 180.0, 250.0, 350.0, 200.0, 580.0, 370.0, 130.0], \"yaxis\": \"y\"}],\n",
              "                        {\"legend\": {\"tracegroupgap\": 0}, \"template\": {\"data\": {\"bar\": [{\"error_x\": {\"color\": \"#2a3f5f\"}, \"error_y\": {\"color\": \"#2a3f5f\"}, \"marker\": {\"line\": {\"color\": \"#E5ECF6\", \"width\": 0.5}}, \"type\": \"bar\"}], \"barpolar\": [{\"marker\": {\"line\": {\"color\": \"#E5ECF6\", \"width\": 0.5}}, \"type\": \"barpolar\"}], \"carpet\": [{\"aaxis\": {\"endlinecolor\": \"#2a3f5f\", \"gridcolor\": \"white\", \"linecolor\": \"white\", \"minorgridcolor\": \"white\", \"startlinecolor\": \"#2a3f5f\"}, \"baxis\": {\"endlinecolor\": \"#2a3f5f\", \"gridcolor\": \"white\", \"linecolor\": \"white\", \"minorgridcolor\": \"white\", \"startlinecolor\": \"#2a3f5f\"}, \"type\": \"carpet\"}], \"choropleth\": [{\"colorbar\": {\"outlinewidth\": 0, \"ticks\": \"\"}, \"type\": \"choropleth\"}], \"contour\": [{\"colorbar\": {\"outlinewidth\": 0, \"ticks\": \"\"}, \"colorscale\": [[0.0, \"#0d0887\"], [0.1111111111111111, \"#46039f\"], [0.2222222222222222, \"#7201a8\"], [0.3333333333333333, \"#9c179e\"], [0.4444444444444444, \"#bd3786\"], [0.5555555555555556, \"#d8576b\"], [0.6666666666666666, \"#ed7953\"], [0.7777777777777778, \"#fb9f3a\"], [0.8888888888888888, \"#fdca26\"], [1.0, \"#f0f921\"]], \"type\": \"contour\"}], \"contourcarpet\": [{\"colorbar\": {\"outlinewidth\": 0, \"ticks\": \"\"}, \"type\": \"contourcarpet\"}], \"heatmap\": [{\"colorbar\": {\"outlinewidth\": 0, \"ticks\": \"\"}, \"colorscale\": [[0.0, \"#0d0887\"], [0.1111111111111111, \"#46039f\"], [0.2222222222222222, \"#7201a8\"], [0.3333333333333333, \"#9c179e\"], [0.4444444444444444, \"#bd3786\"], [0.5555555555555556, \"#d8576b\"], [0.6666666666666666, \"#ed7953\"], [0.7777777777777778, \"#fb9f3a\"], [0.8888888888888888, \"#fdca26\"], [1.0, \"#f0f921\"]], \"type\": \"heatmap\"}], \"heatmapgl\": [{\"colorbar\": {\"outlinewidth\": 0, \"ticks\": \"\"}, \"colorscale\": [[0.0, \"#0d0887\"], [0.1111111111111111, \"#46039f\"], [0.2222222222222222, \"#7201a8\"], [0.3333333333333333, \"#9c179e\"], [0.4444444444444444, \"#bd3786\"], [0.5555555555555556, \"#d8576b\"], [0.6666666666666666, \"#ed7953\"], [0.7777777777777778, \"#fb9f3a\"], [0.8888888888888888, \"#fdca26\"], [1.0, \"#f0f921\"]], \"type\": \"heatmapgl\"}], \"histogram\": [{\"marker\": {\"colorbar\": {\"outlinewidth\": 0, \"ticks\": \"\"}}, \"type\": \"histogram\"}], \"histogram2d\": [{\"colorbar\": {\"outlinewidth\": 0, \"ticks\": \"\"}, \"colorscale\": [[0.0, \"#0d0887\"], [0.1111111111111111, \"#46039f\"], [0.2222222222222222, \"#7201a8\"], [0.3333333333333333, \"#9c179e\"], [0.4444444444444444, \"#bd3786\"], [0.5555555555555556, \"#d8576b\"], [0.6666666666666666, \"#ed7953\"], [0.7777777777777778, \"#fb9f3a\"], [0.8888888888888888, \"#fdca26\"], [1.0, \"#f0f921\"]], \"type\": \"histogram2d\"}], \"histogram2dcontour\": [{\"colorbar\": {\"outlinewidth\": 0, \"ticks\": \"\"}, \"colorscale\": [[0.0, \"#0d0887\"], [0.1111111111111111, \"#46039f\"], [0.2222222222222222, \"#7201a8\"], [0.3333333333333333, \"#9c179e\"], [0.4444444444444444, \"#bd3786\"], [0.5555555555555556, \"#d8576b\"], [0.6666666666666666, \"#ed7953\"], [0.7777777777777778, \"#fb9f3a\"], [0.8888888888888888, \"#fdca26\"], [1.0, \"#f0f921\"]], \"type\": \"histogram2dcontour\"}], \"mesh3d\": [{\"colorbar\": {\"outlinewidth\": 0, \"ticks\": \"\"}, \"type\": \"mesh3d\"}], \"parcoords\": [{\"line\": {\"colorbar\": {\"outlinewidth\": 0, \"ticks\": \"\"}}, \"type\": \"parcoords\"}], \"pie\": [{\"automargin\": true, \"type\": \"pie\"}], \"scatter\": [{\"marker\": {\"colorbar\": {\"outlinewidth\": 0, \"ticks\": \"\"}}, \"type\": \"scatter\"}], \"scatter3d\": [{\"line\": {\"colorbar\": {\"outlinewidth\": 0, \"ticks\": \"\"}}, \"marker\": {\"colorbar\": {\"outlinewidth\": 0, \"ticks\": \"\"}}, \"type\": \"scatter3d\"}], \"scattercarpet\": [{\"marker\": {\"colorbar\": {\"outlinewidth\": 0, \"ticks\": \"\"}}, \"type\": \"scattercarpet\"}], \"scattergeo\": [{\"marker\": {\"colorbar\": {\"outlinewidth\": 0, \"ticks\": \"\"}}, \"type\": \"scattergeo\"}], \"scattergl\": [{\"marker\": {\"colorbar\": {\"outlinewidth\": 0, \"ticks\": \"\"}}, \"type\": \"scattergl\"}], \"scattermapbox\": [{\"marker\": {\"colorbar\": {\"outlinewidth\": 0, \"ticks\": \"\"}}, \"type\": \"scattermapbox\"}], \"scatterpolar\": [{\"marker\": {\"colorbar\": {\"outlinewidth\": 0, \"ticks\": \"\"}}, \"type\": \"scatterpolar\"}], \"scatterpolargl\": [{\"marker\": {\"colorbar\": {\"outlinewidth\": 0, \"ticks\": \"\"}}, \"type\": \"scatterpolargl\"}], \"scatterternary\": [{\"marker\": {\"colorbar\": {\"outlinewidth\": 0, \"ticks\": \"\"}}, \"type\": \"scatterternary\"}], \"surface\": [{\"colorbar\": {\"outlinewidth\": 0, \"ticks\": \"\"}, \"colorscale\": [[0.0, \"#0d0887\"], [0.1111111111111111, \"#46039f\"], [0.2222222222222222, \"#7201a8\"], [0.3333333333333333, \"#9c179e\"], [0.4444444444444444, \"#bd3786\"], [0.5555555555555556, \"#d8576b\"], [0.6666666666666666, \"#ed7953\"], [0.7777777777777778, \"#fb9f3a\"], [0.8888888888888888, \"#fdca26\"], [1.0, \"#f0f921\"]], \"type\": \"surface\"}], \"table\": [{\"cells\": {\"fill\": {\"color\": \"#EBF0F8\"}, \"line\": {\"color\": \"white\"}}, \"header\": {\"fill\": {\"color\": \"#C8D4E3\"}, \"line\": {\"color\": \"white\"}}, \"type\": \"table\"}]}, \"layout\": {\"annotationdefaults\": {\"arrowcolor\": \"#2a3f5f\", \"arrowhead\": 0, \"arrowwidth\": 1}, \"coloraxis\": {\"colorbar\": {\"outlinewidth\": 0, \"ticks\": \"\"}}, \"colorscale\": {\"diverging\": [[0, \"#8e0152\"], [0.1, \"#c51b7d\"], [0.2, \"#de77ae\"], [0.3, \"#f1b6da\"], [0.4, \"#fde0ef\"], [0.5, \"#f7f7f7\"], [0.6, \"#e6f5d0\"], [0.7, \"#b8e186\"], [0.8, \"#7fbc41\"], [0.9, \"#4d9221\"], [1, \"#276419\"]], \"sequential\": [[0.0, \"#0d0887\"], [0.1111111111111111, \"#46039f\"], [0.2222222222222222, \"#7201a8\"], [0.3333333333333333, \"#9c179e\"], [0.4444444444444444, \"#bd3786\"], [0.5555555555555556, \"#d8576b\"], [0.6666666666666666, \"#ed7953\"], [0.7777777777777778, \"#fb9f3a\"], [0.8888888888888888, \"#fdca26\"], [1.0, \"#f0f921\"]], \"sequentialminus\": [[0.0, \"#0d0887\"], [0.1111111111111111, \"#46039f\"], [0.2222222222222222, \"#7201a8\"], [0.3333333333333333, \"#9c179e\"], [0.4444444444444444, \"#bd3786\"], [0.5555555555555556, \"#d8576b\"], [0.6666666666666666, \"#ed7953\"], [0.7777777777777778, \"#fb9f3a\"], [0.8888888888888888, \"#fdca26\"], [1.0, \"#f0f921\"]]}, \"colorway\": [\"#636efa\", \"#EF553B\", \"#00cc96\", \"#ab63fa\", \"#FFA15A\", \"#19d3f3\", \"#FF6692\", \"#B6E880\", \"#FF97FF\", \"#FECB52\"], \"font\": {\"color\": \"#2a3f5f\"}, \"geo\": {\"bgcolor\": \"white\", \"lakecolor\": \"white\", \"landcolor\": \"#E5ECF6\", \"showlakes\": true, \"showland\": true, \"subunitcolor\": \"white\"}, \"hoverlabel\": {\"align\": \"left\"}, \"hovermode\": \"closest\", \"mapbox\": {\"style\": \"light\"}, \"paper_bgcolor\": \"white\", \"plot_bgcolor\": \"#E5ECF6\", \"polar\": {\"angularaxis\": {\"gridcolor\": \"white\", \"linecolor\": \"white\", \"ticks\": \"\"}, \"bgcolor\": \"#E5ECF6\", \"radialaxis\": {\"gridcolor\": \"white\", \"linecolor\": \"white\", \"ticks\": \"\"}}, \"scene\": {\"xaxis\": {\"backgroundcolor\": \"#E5ECF6\", \"gridcolor\": \"white\", \"gridwidth\": 2, \"linecolor\": \"white\", \"showbackground\": true, \"ticks\": \"\", \"zerolinecolor\": \"white\"}, \"yaxis\": {\"backgroundcolor\": \"#E5ECF6\", \"gridcolor\": \"white\", \"gridwidth\": 2, \"linecolor\": \"white\", \"showbackground\": true, \"ticks\": \"\", \"zerolinecolor\": \"white\"}, \"zaxis\": {\"backgroundcolor\": \"#E5ECF6\", \"gridcolor\": \"white\", \"gridwidth\": 2, \"linecolor\": \"white\", \"showbackground\": true, \"ticks\": \"\", \"zerolinecolor\": \"white\"}}, \"shapedefaults\": {\"line\": {\"color\": \"#2a3f5f\"}}, \"ternary\": {\"aaxis\": {\"gridcolor\": \"white\", \"linecolor\": \"white\", \"ticks\": \"\"}, \"baxis\": {\"gridcolor\": \"white\", \"linecolor\": \"white\", \"ticks\": \"\"}, \"bgcolor\": \"#E5ECF6\", \"caxis\": {\"gridcolor\": \"white\", \"linecolor\": \"white\", \"ticks\": \"\"}}, \"title\": {\"x\": 0.05}, \"xaxis\": {\"automargin\": true, \"gridcolor\": \"white\", \"linecolor\": \"white\", \"ticks\": \"\", \"title\": {\"standoff\": 15}, \"zerolinecolor\": \"white\", \"zerolinewidth\": 2}, \"yaxis\": {\"automargin\": true, \"gridcolor\": \"white\", \"linecolor\": \"white\", \"ticks\": \"\", \"title\": {\"standoff\": 15}, \"zerolinecolor\": \"white\", \"zerolinewidth\": 2}}}, \"title\": {\"text\": \"Return_Monitor\"}, \"xaxis\": {\"anchor\": \"y\", \"domain\": [0.0, 1.0], \"title\": {\"text\": \"episode\"}}, \"yaxis\": {\"anchor\": \"x\", \"domain\": [0.0, 1.0], \"title\": {\"text\": \"return\"}}},\n",
              "                        {\"responsive\": true}\n",
              "                    ).then(function(){\n",
              "                            \n",
              "var gd = document.getElementById('62f8b482-981e-46a2-ae26-5267e10d867e');\n",
              "var x = new MutationObserver(function (mutations, observer) {{\n",
              "        var display = window.getComputedStyle(gd).display;\n",
              "        if (!display || display === 'none') {{\n",
              "            console.log([gd, 'removed!']);\n",
              "            Plotly.purge(gd);\n",
              "            observer.disconnect();\n",
              "        }}\n",
              "}});\n",
              "\n",
              "// Listen for the removal of the full notebook cells\n",
              "var notebookContainer = gd.closest('#notebook-container');\n",
              "if (notebookContainer) {{\n",
              "    x.observe(notebookContainer, {childList: true});\n",
              "}}\n",
              "\n",
              "// Listen for the clearing of the current output cell\n",
              "var outputEl = gd.closest('.output');\n",
              "if (outputEl) {{\n",
              "    x.observe(outputEl, {childList: true});\n",
              "}}\n",
              "\n",
              "                        })\n",
              "                };\n",
              "                \n",
              "            </script>\n",
              "        </div>\n",
              "</body>\n",
              "</html>"
            ]
          },
          "metadata": {
            "tags": []
          }
        }
      ]
    },
    {
      "cell_type": "markdown",
      "metadata": {
        "id": "eA5FvJf1KM4c"
      },
      "source": [
        "에피소드의 수가 매우 적어서 그렇지만 gym에서는 double dqn이 좋다고 알려져있다. "
      ]
    }
  ]
}